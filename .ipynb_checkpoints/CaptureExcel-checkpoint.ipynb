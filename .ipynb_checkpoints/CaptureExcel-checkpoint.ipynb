{
 "cells": [
  {
   "cell_type": "code",
   "execution_count": null,
   "id": "b253a09d-c923-44c9-bb71-b9b2a197bc91",
   "metadata": {},
   "outputs": [],
   "source": [
    "from openpyxl import load_workbook, Workbook\n",
    "import os\n",
    "\n",
    "# === File paths ===\n",
    "source_file = \"20250411_M46_JV3.1_P1.xlsm\"\n",
    "target_file = \"Summary.xlsx\"\n",
    "\n",
    "# === Sheet names ===\n",
    "source_sheet = \"HeatMap\"\n",
    "target_sheet = \"SummaryVDCR\"\n",
    "\n",
    "# === Range settings ===\n",
    "source_range = (\"DR3\", \"FC115\")      # 113 rows × 38 columns\n",
    "target_start_row = 6                 # Paste to row 6\n",
    "target_start_col = 4                 # Paste to column D\n",
    "\n",
    "# === Load source workbook ===\n",
    "src_wb = load_workbook(source_file, data_only=True)\n",
    "src_ws = src_wb[source_sheet]\n",
    "\n",
    "# === Load or create target workbook ===\n",
    "if os.path.exists(target_file):\n",
    "    tgt_wb = load_workbook(target_file)\n",
    "    if target_sheet in tgt_wb.sheetnames:\n",
    "        tgt_ws = tgt_wb[target_sheet]\n",
    "    else:\n",
    "        tgt_ws = tgt_wb.create_sheet(title=target_sheet)\n",
    "else:\n",
    "    tgt_wb = Workbook()\n",
    "    tgt_ws = tgt_wb.active\n",
    "    tgt_ws.title = target_sheet\n",
    "\n",
    "# === Read V_DCR data ===\n",
    "start_cell = \"DR3\"\n",
    "end_cell = \"FC115\"\n",
    "dcr_values = src_ws[start_cell:end_cell]\n",
    "\n",
    "\n",
    "# === Paste to target ===\n",
    "for i, row in enumerate(dcr_values):\n",
    "    for j, cell in enumerate(row):\n",
    "        tgt_ws.cell(row=target_start_row + i, column=target_start_col + j).value = cell.value\n",
    "\n",
    "# === Save directly to Summary.xlsx ===\n",
    "tgt_wb.save(target_file)\n",
    "print(\"✅ V_DCR pasted into Summary.xlsx successfully.\")\n"
   ]
  },
  {
   "cell_type": "code",
   "execution_count": null,
   "id": "47d936c1-3af4-41a9-bbd5-d93fe954aac0",
   "metadata": {},
   "outputs": [],
   "source": []
  }
 ],
 "metadata": {
  "kernelspec": {
   "display_name": "Python 3 (ipykernel)",
   "language": "python",
   "name": "python3"
  },
  "language_info": {
   "codemirror_mode": {
    "name": "ipython",
    "version": 3
   },
   "file_extension": ".py",
   "mimetype": "text/x-python",
   "name": "python",
   "nbconvert_exporter": "python",
   "pygments_lexer": "ipython3",
   "version": "3.12.3"
  }
 },
 "nbformat": 4,
 "nbformat_minor": 5
}
